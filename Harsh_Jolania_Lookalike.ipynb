{
 "cells": [
  {
   "cell_type": "markdown",
   "id": "fe707799-6d87-4213-bdcb-a012a8b4fbb4",
   "metadata": {},
   "source": [
    "# Task 2:Lookalike Model"
   ]
  },
  {
   "cell_type": "code",
   "execution_count": 3,
   "id": "e62f864d-3af3-4250-b709-4c0f8d219f9b",
   "metadata": {},
   "outputs": [],
   "source": [
    "#imort the libraries\n",
    "import pandas as pd\n",
    "from sklearn.preprocessing import StandardScaler\n",
    "from sklearn.metrics.pairwise import cosine_similarity"
   ]
  },
  {
   "cell_type": "code",
   "execution_count": 5,
   "id": "6204e702-624c-4564-bcb6-a9b95adcf52d",
   "metadata": {},
   "outputs": [],
   "source": [
    "#  Load  the datasets\n",
    "customers = pd.read_csv('Customers.csv')\n",
    "products = pd.read_csv('Products.csv')\n",
    "transactions = pd.read_csv('Transactions.csv')"
   ]
  },
  {
   "cell_type": "code",
   "execution_count": 7,
   "id": "f468f9be-8901-4268-8dca-a880bc2d6d9e",
   "metadata": {},
   "outputs": [],
   "source": [
    "# Merging datasets\n",
    "# Merging Transactions with Products to include product details\n",
    "transactions = transactions.merge(products, on='ProductID', how='left')"
   ]
  },
  {
   "cell_type": "code",
   "execution_count": 9,
   "id": "665cae0f-e697-47a5-95bb-89ab9a710b02",
   "metadata": {},
   "outputs": [],
   "source": [
    "# Aggregate transaction data by CustomerID\n",
    "customer_transactions = transactions.groupby('CustomerID').agg({\n",
    "    'Category': lambda x: ' '.join(x),  # Aggregate product categories\n",
    "    'TotalValue': 'sum'  # Total spending by customer\n",
    "}).reset_index()"
   ]
  },
  {
   "cell_type": "code",
   "execution_count": 11,
   "id": "57356cd9-8b7a-42ad-9da1-63775dfeb821",
   "metadata": {},
   "outputs": [],
   "source": [
    "customer_data = customers.merge(customer_transactions, on='CustomerID', how='left').fillna({'Category': '', 'TotalValue': 0})"
   ]
  },
  {
   "cell_type": "code",
   "execution_count": 13,
   "id": "a287386a-d5c2-4241-bb2e-5cc501164fab",
   "metadata": {},
   "outputs": [],
   "source": [
    "#Step Feature Engineering\n",
    "product_categories_encoded = customer_data['Category'].str.get_dummies(sep=' ')\n",
    "features = pd.concat([customer_data[['TotalValue']], product_categories_encoded], axis=1)\n"
   ]
  },
  {
   "cell_type": "code",
   "execution_count": 15,
   "id": "cec44307-2a97-4ac5-abc5-6605852f5dfd",
   "metadata": {},
   "outputs": [],
   "source": [
    "# Normalize features\n",
    "normalized_features = StandardScaler().fit_transform(features)"
   ]
  },
  {
   "cell_type": "code",
   "execution_count": 17,
   "id": "696e9155-ae3b-4335-8246-6659bd5f452e",
   "metadata": {},
   "outputs": [],
   "source": [
    "#Compute Cosine Similarity Matrix\n",
    "similarity_matrix = cosine_similarity(normalized_features)"
   ]
  },
  {
   "cell_type": "code",
   "execution_count": 19,
   "id": "a538e0ed-66f6-4ccd-800f-b55568fd08ed",
   "metadata": {},
   "outputs": [],
   "source": [
    "# Generate Recommendations\n",
    "    #Loop on 20 Customers\n",
    "    #Sort Scores in escending order\n",
    "    #Rounded Scores\n",
    "customer_ids = customer_data['CustomerID']\n",
    "lookalike_map = {\n",
    "    customer_ids[idx]: [\n",
    "        (customer_ids[i], round(score, 4))\n",
    "        for i, score in sorted( \n",
    "            enumerate(similarity_matrix[idx]),\n",
    "            key=lambda x: x[1],\n",
    "            reverse=True\n",
    "        )[1:4]  # Exclude self and select top 3\n",
    "    ]\n",
    "    for idx in range(20)  # Limit to first 20 customers\n",
    "}\n"
   ]
  },
  {
   "cell_type": "code",
   "execution_count": 21,
   "id": "32bcee61-fba1-410f-92df-65357c31c685",
   "metadata": {},
   "outputs": [
    {
     "name": "stdout",
     "output_type": "stream",
     "text": [
      "Optimized Lookalike.csv has been generated successfully.\n"
     ]
    }
   ],
   "source": [
    "#Saving results to Lookalike.csv\n",
    "lookalike_df = pd.DataFrame({\n",
    "    'CustomerID': lookalike_map.keys(),\n",
    "    'Lookalikes': lookalike_map.values()\n",
    "})\n",
    "\n",
    "lookalike_df.to_csv('Harsh_Jolania_Lookalike.csv ', index=False) \n",
    "\n",
    "print(\"Optimized Lookalike.csv has been generated successfully.\")"
   ]
  },
  {
   "cell_type": "code",
   "execution_count": 23,
   "id": "33e97527-0a78-4818-a118-327077331dde",
   "metadata": {},
   "outputs": [
    {
     "name": "stdout",
     "output_type": "stream",
     "text": [
      "  CustomerID                                         Lookalikes\n",
      "0      C0001   [(C0152, 1.0), (C0127, 0.9994), (C0174, 0.9916)]\n",
      "1      C0002  [(C0159, 0.9992), (C0062, 0.9992), (C0144, 0.9...\n",
      "2      C0003  [(C0106, 0.9987), (C0166, 0.9973), (C0129, 0.9...\n",
      "3      C0004  [(C0148, 0.9998), (C0012, 0.9996), (C0018, 0.9...\n",
      "4      C0005  [(C0199, 0.9999), (C0197, 0.9998), (C0140, 0.9...\n"
     ]
    }
   ],
   "source": [
    "print(lookalike_df.head())"
   ]
  },
  {
   "cell_type": "code",
   "execution_count": 25,
   "id": "5961458e-3afa-407a-9757-18d447e924bf",
   "metadata": {},
   "outputs": [
    {
     "name": "stdout",
     "output_type": "stream",
     "text": [
      "   CustomerID                                         Lookalikes\n",
      "0       C0001   [(C0152, 1.0), (C0127, 0.9994), (C0174, 0.9916)]\n",
      "1       C0002  [(C0159, 0.9992), (C0062, 0.9992), (C0144, 0.9...\n",
      "2       C0003  [(C0106, 0.9987), (C0166, 0.9973), (C0129, 0.9...\n",
      "3       C0004  [(C0148, 0.9998), (C0012, 0.9996), (C0018, 0.9...\n",
      "4       C0005  [(C0199, 0.9999), (C0197, 0.9998), (C0140, 0.9...\n",
      "5       C0006      [(C0079, 1.0), (C0124, 1.0), (C0187, 0.9952)]\n",
      "6       C0007  [(C0069, 0.9981), (C0005, 0.9942), (C0199, 0.9...\n",
      "7       C0008  [(C0039, 0.9999), (C0090, 0.9989), (C0067, 0.9...\n",
      "8       C0009     [(C0198, 1.0), (C0072, 0.937), (C0092, 0.936)]\n",
      "9       C0010  [(C0132, 0.9997), (C0061, 0.9971), (C0142, 0.9...\n",
      "10      C0011  [(C0107, 0.9997), (C0183, 0.9996), (C0016, 0.9...\n",
      "11      C0012  [(C0004, 0.9996), (C0148, 0.9988), (C0018, 0.9...\n",
      "12      C0013  [(C0101, 0.9968), (C0087, 0.9953), (C0165, 0.9...\n",
      "13      C0014  [(C0151, 0.9999), (C0097, 0.9997), (C0060, 0.9...\n",
      "14      C0015  [(C0123, 0.999), (C0071, 0.999), (C0131, 0.9885)]\n",
      "15      C0016   [(C0183, 1.0), (C0011, 0.9995), (C0107, 0.9984)]\n",
      "16      C0017   [(C0200, 1.0), (C0162, 0.9999), (C0113, 0.9998)]\n",
      "17      C0018  [(C0012, 0.9944), (C0004, 0.9911), (C0148, 0.9...\n",
      "18      C0019  [(C0112, 0.9991), (C0186, 0.9969), (C0125, 0.9...\n",
      "19      C0020  [(C0130, 0.999), (C0120, 0.9713), (C0180, 0.82...\n"
     ]
    }
   ],
   "source": [
    "print(lookalike_df)"
   ]
  },
  {
   "cell_type": "code",
   "execution_count": null,
   "id": "5b635f46-5057-4762-845d-b7dd43aa8e35",
   "metadata": {},
   "outputs": [],
   "source": []
  },
  {
   "cell_type": "code",
   "execution_count": null,
   "id": "806e3f56-c0ef-480f-97ea-46fef08a544d",
   "metadata": {},
   "outputs": [],
   "source": []
  }
 ],
 "metadata": {
  "kernelspec": {
   "display_name": "Python 3 (ipykernel)",
   "language": "python",
   "name": "python3"
  },
  "language_info": {
   "codemirror_mode": {
    "name": "ipython",
    "version": 3
   },
   "file_extension": ".py",
   "mimetype": "text/x-python",
   "name": "python",
   "nbconvert_exporter": "python",
   "pygments_lexer": "ipython3",
   "version": "3.12.7"
  }
 },
 "nbformat": 4,
 "nbformat_minor": 5
}
